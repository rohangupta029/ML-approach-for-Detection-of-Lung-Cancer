{
 "cells": [
  {
   "cell_type": "markdown",
   "id": "1e8b8280",
   "metadata": {},
   "source": [
    "Introduction to SVM"
   ]
  },
  {
   "cell_type": "markdown",
   "id": "4c3788cf",
   "metadata": {},
   "source": [
    "Use SVM to build and train model using human cell records, and classify cells to whether the samples are benign (mild state) or malignant (evil state). SVM works by mapping data to a high-dimension feature space so that data points can be categorized, even when the data are not otherwise linearly separable. (This gets done by the kernel function of SVM classifier). A separator between the categories is found, then the data is transformed in such a way that the separator could be drawn as a hyperplane."
   ]
  },
  {
   "cell_type": "markdown",
   "id": "05acd77e",
   "metadata": {},
   "source": [
    "Necessary Imports"
   ]
  },
  {
   "cell_type": "code",
   "execution_count": 1,
   "id": "a6459d00",
   "metadata": {},
   "outputs": [],
   "source": [
    "import pandas as pd\n",
    "import numpy as np\n",
    "import matplotlib.pyplot as plt"
   ]
  },
  {
   "cell_type": "markdown",
   "id": "4880ea1c",
   "metadata": {},
   "source": [
    "Load Data from csv(Comma Separated File) File"
   ]
  },
  {
   "cell_type": "code",
   "execution_count": 2,
   "id": "133111b5",
   "metadata": {},
   "outputs": [],
   "source": [
    "cell_df=pd.read_csv('lung_cancer_examples.csv')"
   ]
  },
  {
   "cell_type": "code",
   "execution_count": 3,
   "id": "f4fcc4b5",
   "metadata": {},
   "outputs": [
    {
     "data": {
      "text/plain": [
       "(59, 7)"
      ]
     },
     "execution_count": 3,
     "metadata": {},
     "output_type": "execute_result"
    }
   ],
   "source": [
    "cell_df.shape"
   ]
  },
  {
   "cell_type": "code",
   "execution_count": 4,
   "id": "501f0c76",
   "metadata": {},
   "outputs": [
    {
     "data": {
      "text/plain": [
       "413"
      ]
     },
     "execution_count": 4,
     "metadata": {},
     "output_type": "execute_result"
    }
   ],
   "source": [
    "cell_df.size"
   ]
  },
  {
   "cell_type": "code",
   "execution_count": 5,
   "id": "f65cbaf5",
   "metadata": {},
   "outputs": [
    {
     "data": {
      "text/plain": [
       "<bound method DataFrame.count of            Name      Surname  Age  Smokes  AreaQ  Alkhol  Result\n",
       "0          John         Wick   35       3      5       4       1\n",
       "1          John  Constantine   27      20      2       5       1\n",
       "2        Camela     Anderson   30       0      5       2       0\n",
       "3          Alex       Telles   28       0      8       1       0\n",
       "4         Diego     Maradona   68       4      5       6       1\n",
       "5     Cristiano      Ronaldo   34       0     10       0       0\n",
       "6        Mihail          Tal   58      15     10       0       0\n",
       "7         Kathy        Bates   22      12      5       2       0\n",
       "8        Nicole       Kidman   45       2      6       0       0\n",
       "9           Ray      Milland   52      18      4       5       1\n",
       "10      Fredric        March   33       4      8       0       0\n",
       "11          Yul      Brynner   18      10      6       3       0\n",
       "12         Joan     Crawford   25       2      5       1       0\n",
       "13         Jane        Wyman   28      20      2       8       1\n",
       "14         Anna      Magnani   34      25      4       8       1\n",
       "15   Katharine       Hepburn   39      18      8       1       0\n",
       "16   Katharine       Hepburn   42      22      3       5       1\n",
       "17       Barbra    Streisand   19      12      8       0       0\n",
       "18      Maggie         Smith   62       5      4       3       1\n",
       "19      Glenda       Jackson   73      10      7       6       1\n",
       "20        Jane         Fonda   55      15      1       3       1\n",
       "21  Maximilian        Schell   33       8      8       1       0\n",
       "22     Gregory          Peck   22      20      6       2       0\n",
       "23      Sidney       Poitier   44       5      8       1       0\n",
       "24         Rex      Harrison   77       3      2       6       1\n",
       "25         Lee        Marvin   21      20      5       3       0\n",
       "26        Paul      Scofield   37      15      6       2       0\n",
       "27         Rod       Steiger   34      12      8       0       0\n",
       "28        John         Wayne   55      20      1       4       1\n",
       "29        Gene       Hackman   40      20      2       7       1\n",
       "30      Marlon        Brando   36      13      5       2       0\n",
       "31        Jack        Lemmon   56      20      3       3       1\n",
       "32        Jack     Nicholson   47      15      1       8       1\n",
       "33       Peter        Finch    62      25      3       4       1\n",
       "34     Richard      Dreyfuss   26      10      7       2       0\n",
       "35      Dustin       Hoffman   25      20      8       2       0\n",
       "36       Henry        Henry    59      20      3       4       1\n",
       "37      Robert        Duvall   62      15      5       5       1\n",
       "38       Ellen       Burstyn   33      25      8       2       0\n",
       "39        Faye       Dunaway   37      10      5       3       0\n",
       "40       Diane        Keaton   50      20      2       4       1\n",
       "41        Jane         Fonda   47      12      8       0       0\n",
       "42       Sally         Field   69      20      5       4       1\n",
       "43       Sissy        Spacek   63      20      4       5       1\n",
       "44     Jessica         Lange   39      15      7       2       0\n",
       "45     Gwyneth       Paltrow   21      20      8       3       0\n",
       "46       Halle         Berry   31      20      9       4       0\n",
       "47      Nicole        Kidman   28      10      4       1       0\n",
       "48    Charlize        Theron   53      20      6       3       1\n",
       "49   Katharine       Hepburn   62      20      5       6       1\n",
       "50   Katharine       Hepburn   42      12      6       2       0\n",
       "51      Barbra     Streisand   44      30      1       6       1\n",
       "52      Maggie         Smith   26      34      1       8       1\n",
       "53      Glenda       Jackson   35      20      5       1       0\n",
       "54      Ernest      Borgnine   26      13      6       1       0\n",
       "55        Alec      Guinness   77      20      5       4       1\n",
       "56    Charlton        Heston   75      15      3       5       1\n",
       "57     Gregory          Peck   43      30      3       8       1\n",
       "58      Sidney       Poitier   51      25      9       0       0>"
      ]
     },
     "execution_count": 5,
     "metadata": {},
     "output_type": "execute_result"
    }
   ],
   "source": [
    "cell_df.count"
   ]
  },
  {
   "cell_type": "code",
   "execution_count": 7,
   "id": "f922af12",
   "metadata": {},
   "outputs": [
    {
     "data": {
      "text/plain": [
       "Katharine      4\n",
       "Sidney         2\n",
       "Maggie         2\n",
       "Gregory        2\n",
       "John           2\n",
       "Jane           2\n",
       "Glenda         2\n",
       "Jack           2\n",
       "Ernest         1\n",
       "Ray            1\n",
       "Richard        1\n",
       "Jessica        1\n",
       "Peter          1\n",
       "Charlize       1\n",
       "Marlon         1\n",
       "Diane          1\n",
       "Anna           1\n",
       "Camela         1\n",
       "Sissy          1\n",
       "Alec           1\n",
       "Faye           1\n",
       "Gene           1\n",
       "John           1\n",
       "Henry          1\n",
       "Barbra         1\n",
       "Dustin         1\n",
       "Halle          1\n",
       "Mihail         1\n",
       "Fredric        1\n",
       "Alex           1\n",
       "Charlton       1\n",
       "Barbra         1\n",
       "Cristiano      1\n",
       "Rex            1\n",
       "Joan           1\n",
       "Diego          1\n",
       "Ellen          1\n",
       "Robert         1\n",
       "Nicole         1\n",
       "Maximilian     1\n",
       "Yul            1\n",
       "Sally          1\n",
       "Jane           1\n",
       "Nicole         1\n",
       "Rod            1\n",
       "Paul           1\n",
       "Kathy          1\n",
       "Lee            1\n",
       "Gwyneth        1\n",
       "Name: Name, dtype: int64"
      ]
     },
     "execution_count": 7,
     "metadata": {},
     "output_type": "execute_result"
    }
   ],
   "source": [
    "cell_df['Name'].value_counts()"
   ]
  },
  {
   "cell_type": "code",
   "execution_count": 8,
   "id": "087ddf99",
   "metadata": {},
   "outputs": [
    {
     "data": {
      "text/plain": [
       "0    31\n",
       "1    28\n",
       "Name: Result, dtype: int64"
      ]
     },
     "execution_count": 8,
     "metadata": {},
     "output_type": "execute_result"
    }
   ],
   "source": [
    "cell_df['Result'].value_counts()"
   ]
  },
  {
   "cell_type": "markdown",
   "id": "de9cd129",
   "metadata": {},
   "source": [
    "Distribution of Classes"
   ]
  },
  {
   "cell_type": "code",
   "execution_count": 9,
   "id": "7fcf8c47",
   "metadata": {},
   "outputs": [],
   "source": [
    "benign_df=cell_df[cell_df['Result']=='0'][0:200]\n",
    "malignant_df=cell_df[cell_df['Result']=='1'][0:200]"
   ]
  },
  {
   "cell_type": "markdown",
   "id": "818876ba",
   "metadata": {},
   "source": [
    "Identifying Unwanted Rows"
   ]
  },
  {
   "cell_type": "code",
   "execution_count": 10,
   "id": "114390dd",
   "metadata": {},
   "outputs": [
    {
     "data": {
      "text/plain": [
       "Name       object\n",
       "Surname    object\n",
       "Age         int64\n",
       "Smokes      int64\n",
       "AreaQ       int64\n",
       "Alkhol      int64\n",
       "Result      int64\n",
       "dtype: object"
      ]
     },
     "execution_count": 10,
     "metadata": {},
     "output_type": "execute_result"
    }
   ],
   "source": [
    "cell_df.dtypes"
   ]
  },
  {
   "cell_type": "code",
   "execution_count": 11,
   "id": "b621e06b",
   "metadata": {},
   "outputs": [
    {
     "data": {
      "text/plain": [
       "Index(['Name', 'Surname', 'Age', 'Smokes', 'AreaQ', 'Alkhol', 'Result'], dtype='object')"
      ]
     },
     "execution_count": 11,
     "metadata": {},
     "output_type": "execute_result"
    }
   ],
   "source": [
    "cell_df.columns"
   ]
  },
  {
   "cell_type": "code",
   "execution_count": 12,
   "id": "209369bb",
   "metadata": {},
   "outputs": [],
   "source": [
    "feature_df=cell_df[['Age', 'Smokes', 'AreaQ', 'Alkhol']]"
   ]
  },
  {
   "cell_type": "code",
   "execution_count": 13,
   "id": "b2393217",
   "metadata": {},
   "outputs": [],
   "source": [
    "x=np.asarray(feature_df)"
   ]
  },
  {
   "cell_type": "code",
   "execution_count": 14,
   "id": "0fc94e4d",
   "metadata": {},
   "outputs": [],
   "source": [
    "y=np.asarray(cell_df['Result'])"
   ]
  },
  {
   "cell_type": "code",
   "execution_count": 15,
   "id": "b8606931",
   "metadata": {},
   "outputs": [
    {
     "data": {
      "text/plain": [
       "array([[35,  3,  5,  4],\n",
       "       [27, 20,  2,  5],\n",
       "       [30,  0,  5,  2],\n",
       "       [28,  0,  8,  1],\n",
       "       [68,  4,  5,  6]], dtype=int64)"
      ]
     },
     "execution_count": 15,
     "metadata": {},
     "output_type": "execute_result"
    }
   ],
   "source": [
    "x[0:5]"
   ]
  },
  {
   "cell_type": "code",
   "execution_count": 16,
   "id": "709d4de7",
   "metadata": {},
   "outputs": [
    {
     "data": {
      "text/plain": [
       "array([1, 1, 0, 0, 1], dtype=int64)"
      ]
     },
     "execution_count": 16,
     "metadata": {},
     "output_type": "execute_result"
    }
   ],
   "source": [
    "y[0:5]"
   ]
  },
  {
   "cell_type": "markdown",
   "id": "8b38ccdf",
   "metadata": {},
   "source": [
    "Divide the Data as Train/Test dataset"
   ]
  },
  {
   "cell_type": "code",
   "execution_count": 17,
   "id": "f6a35ed2",
   "metadata": {},
   "outputs": [],
   "source": [
    "from sklearn.model_selection import train_test_split"
   ]
  },
  {
   "cell_type": "code",
   "execution_count": 18,
   "id": "06d032ae",
   "metadata": {},
   "outputs": [],
   "source": [
    "x_train,x_test,y_train,y_test=train_test_split(x,y,test_size=0.2,random_state=4)"
   ]
  },
  {
   "cell_type": "code",
   "execution_count": 19,
   "id": "33b78702",
   "metadata": {},
   "outputs": [
    {
     "data": {
      "text/plain": [
       "(47, 4)"
      ]
     },
     "execution_count": 19,
     "metadata": {},
     "output_type": "execute_result"
    }
   ],
   "source": [
    "#47 rows and 4 columns\n",
    "x_train.shape"
   ]
  },
  {
   "cell_type": "code",
   "execution_count": 20,
   "id": "a3b96cc8",
   "metadata": {},
   "outputs": [
    {
     "data": {
      "text/plain": [
       "(47,)"
      ]
     },
     "execution_count": 20,
     "metadata": {},
     "output_type": "execute_result"
    }
   ],
   "source": [
    "#47 rows\n",
    "y_train.shape"
   ]
  },
  {
   "cell_type": "code",
   "execution_count": 22,
   "id": "b3d0deff",
   "metadata": {},
   "outputs": [
    {
     "data": {
      "text/plain": [
       "(12, 4)"
      ]
     },
     "execution_count": 22,
     "metadata": {},
     "output_type": "execute_result"
    }
   ],
   "source": [
    "#12 rows and 4 columns\n",
    "x_test.shape"
   ]
  },
  {
   "cell_type": "code",
   "execution_count": 53,
   "id": "79ed3929",
   "metadata": {},
   "outputs": [
    {
     "data": {
      "text/plain": [
       "(114,)"
      ]
     },
     "execution_count": 53,
     "metadata": {},
     "output_type": "execute_result"
    }
   ],
   "source": [
    "#114 rows\n",
    "y_test.shape"
   ]
  },
  {
   "cell_type": "markdown",
   "id": "d13e18a9",
   "metadata": {},
   "source": [
    "Modeling (SVM with Scikit-learn)"
   ]
  },
  {
   "cell_type": "code",
   "execution_count": 54,
   "id": "6a8704b1",
   "metadata": {},
   "outputs": [],
   "source": [
    "from sklearn import svm\n",
    "classifier=svm.SVC(kernel='linear',gamma='auto',C=2)"
   ]
  },
  {
   "cell_type": "code",
   "execution_count": 55,
   "id": "9f36badd",
   "metadata": {},
   "outputs": [
    {
     "data": {
      "text/plain": [
       "SVC(C=2, gamma='auto', kernel='linear')"
      ]
     },
     "execution_count": 55,
     "metadata": {},
     "output_type": "execute_result"
    }
   ],
   "source": [
    "classifier.fit(x_train,y_train)"
   ]
  },
  {
   "cell_type": "code",
   "execution_count": 56,
   "id": "625a143c",
   "metadata": {},
   "outputs": [],
   "source": [
    "y_predict=classifier.predict(x_test)"
   ]
  },
  {
   "cell_type": "markdown",
   "id": "3b3b35b7",
   "metadata": {},
   "source": [
    "Evaluation (Results)"
   ]
  },
  {
   "cell_type": "code",
   "execution_count": 57,
   "id": "336fcb0e",
   "metadata": {},
   "outputs": [
    {
     "name": "stdout",
     "output_type": "stream",
     "text": [
      "              precision    recall  f1-score   support\n",
      "\n",
      "           B       0.99      0.93      0.95        80\n",
      "           M       0.85      0.97      0.90        34\n",
      "\n",
      "    accuracy                           0.94       114\n",
      "   macro avg       0.92      0.95      0.93       114\n",
      "weighted avg       0.94      0.94      0.94       114\n",
      "\n"
     ]
    }
   ],
   "source": [
    "from sklearn.metrics import classification_report\n",
    "print(classification_report(y_test,y_predict))"
   ]
  },
  {
   "cell_type": "code",
   "execution_count": null,
   "id": "922c216b",
   "metadata": {},
   "outputs": [],
   "source": []
  }
 ],
 "metadata": {
  "kernelspec": {
   "display_name": "Python 3",
   "language": "python",
   "name": "python3"
  },
  "language_info": {
   "codemirror_mode": {
    "name": "ipython",
    "version": 3
   },
   "file_extension": ".py",
   "mimetype": "text/x-python",
   "name": "python",
   "nbconvert_exporter": "python",
   "pygments_lexer": "ipython3",
   "version": "3.8.8"
  }
 },
 "nbformat": 4,
 "nbformat_minor": 5
}
